{
  "nbformat": 4,
  "nbformat_minor": 0,
  "metadata": {
    "accelerator": "GPU",
    "colab": {
      "provenance": [],
      "machine_shape": "hm"
    },
    "kernelspec": {
      "display_name": "Python 3",
      "name": "python3"
    },
    "language_info": {
      "name": "python"
    }
  },
  "cells": [
    {
      "cell_type": "code",
      "source": [
        "!pip install pytorch_lightning"
      ],
      "metadata": {
        "colab": {
          "base_uri": "https://localhost:8080/"
        },
        "id": "O1_x81ORGels",
        "outputId": "b59896e4-f9ff-43e0-c7f4-d0b3f6b831b5"
      },
      "execution_count": 1,
      "outputs": [
        {
          "output_type": "stream",
          "name": "stdout",
          "text": [
            "Requirement already satisfied: pytorch_lightning in c:\\users\\bhavik more\\appdata\\local\\programs\\python\\python312\\lib\\site-packages (2.2.1)\n",
            "Requirement already satisfied: numpy>=1.17.2 in c:\\users\\bhavik more\\appdata\\local\\programs\\python\\python312\\lib\\site-packages (from pytorch_lightning) (1.26.3)\n",
            "Requirement already satisfied: torch>=1.13.0 in c:\\users\\bhavik more\\appdata\\local\\programs\\python\\python312\\lib\\site-packages (from pytorch_lightning) (2.2.2+cu118)\n",
            "Requirement already satisfied: tqdm>=4.57.0 in c:\\users\\bhavik more\\appdata\\local\\programs\\python\\python312\\lib\\site-packages (from pytorch_lightning) (4.66.2)\n",
            "Requirement already satisfied: PyYAML>=5.4 in c:\\users\\bhavik more\\appdata\\local\\programs\\python\\python312\\lib\\site-packages (from pytorch_lightning) (6.0.1)\n",
            "Requirement already satisfied: fsspec>=2022.5.0 in c:\\users\\bhavik more\\appdata\\local\\programs\\python\\python312\\lib\\site-packages (from fsspec[http]>=2022.5.0->pytorch_lightning) (2023.4.0)\n",
            "Requirement already satisfied: torchmetrics>=0.7.0 in c:\\users\\bhavik more\\appdata\\local\\programs\\python\\python312\\lib\\site-packages (from pytorch_lightning) (1.3.2)\n",
            "Requirement already satisfied: packaging>=20.0 in c:\\users\\bhavik more\\appdata\\local\\programs\\python\\python312\\lib\\site-packages (from pytorch_lightning) (24.0)\n",
            "Requirement already satisfied: typing-extensions>=4.4.0 in c:\\users\\bhavik more\\appdata\\local\\programs\\python\\python312\\lib\\site-packages (from pytorch_lightning) (4.11.0)\n",
            "Requirement already satisfied: lightning-utilities>=0.8.0 in c:\\users\\bhavik more\\appdata\\local\\programs\\python\\python312\\lib\\site-packages (from pytorch_lightning) (0.11.2)\n",
            "Requirement already satisfied: requests in c:\\users\\bhavik more\\appdata\\local\\programs\\python\\python312\\lib\\site-packages (from fsspec[http]>=2022.5.0->pytorch_lightning) (2.31.0)\n",
            "Requirement already satisfied: aiohttp!=4.0.0a0,!=4.0.0a1 in c:\\users\\bhavik more\\appdata\\local\\programs\\python\\python312\\lib\\site-packages (from fsspec[http]>=2022.5.0->pytorch_lightning) (3.9.3)\n",
            "Requirement already satisfied: setuptools in c:\\users\\bhavik more\\appdata\\local\\programs\\python\\python312\\lib\\site-packages (from lightning-utilities>=0.8.0->pytorch_lightning) (69.2.0)\n",
            "Requirement already satisfied: filelock in c:\\users\\bhavik more\\appdata\\local\\programs\\python\\python312\\lib\\site-packages (from torch>=1.13.0->pytorch_lightning) (3.13.3)\n",
            "Requirement already satisfied: sympy in c:\\users\\bhavik more\\appdata\\local\\programs\\python\\python312\\lib\\site-packages (from torch>=1.13.0->pytorch_lightning) (1.12)\n",
            "Requirement already satisfied: networkx in c:\\users\\bhavik more\\appdata\\local\\programs\\python\\python312\\lib\\site-packages (from torch>=1.13.0->pytorch_lightning) (3.2.1)\n",
            "Requirement already satisfied: jinja2 in c:\\users\\bhavik more\\appdata\\local\\programs\\python\\python312\\lib\\site-packages (from torch>=1.13.0->pytorch_lightning) (3.1.3)\n",
            "Requirement already satisfied: colorama in c:\\users\\bhavik more\\appdata\\local\\programs\\python\\python312\\lib\\site-packages (from tqdm>=4.57.0->pytorch_lightning) (0.4.6)\n",
            "Requirement already satisfied: aiosignal>=1.1.2 in c:\\users\\bhavik more\\appdata\\local\\programs\\python\\python312\\lib\\site-packages (from aiohttp!=4.0.0a0,!=4.0.0a1->fsspec[http]>=2022.5.0->pytorch_lightning) (1.3.1)\n",
            "Requirement already satisfied: attrs>=17.3.0 in c:\\users\\bhavik more\\appdata\\local\\programs\\python\\python312\\lib\\site-packages (from aiohttp!=4.0.0a0,!=4.0.0a1->fsspec[http]>=2022.5.0->pytorch_lightning) (23.2.0)\n",
            "Requirement already satisfied: frozenlist>=1.1.1 in c:\\users\\bhavik more\\appdata\\local\\programs\\python\\python312\\lib\\site-packages (from aiohttp!=4.0.0a0,!=4.0.0a1->fsspec[http]>=2022.5.0->pytorch_lightning) (1.4.1)\n",
            "Requirement already satisfied: multidict<7.0,>=4.5 in c:\\users\\bhavik more\\appdata\\local\\programs\\python\\python312\\lib\\site-packages (from aiohttp!=4.0.0a0,!=4.0.0a1->fsspec[http]>=2022.5.0->pytorch_lightning) (6.0.5)\n",
            "Requirement already satisfied: yarl<2.0,>=1.0 in c:\\users\\bhavik more\\appdata\\local\\programs\\python\\python312\\lib\\site-packages (from aiohttp!=4.0.0a0,!=4.0.0a1->fsspec[http]>=2022.5.0->pytorch_lightning) (1.9.4)\n",
            "Requirement already satisfied: MarkupSafe>=2.0 in c:\\users\\bhavik more\\appdata\\local\\programs\\python\\python312\\lib\\site-packages (from jinja2->torch>=1.13.0->pytorch_lightning) (2.1.5)\n",
            "Requirement already satisfied: charset-normalizer<4,>=2 in c:\\users\\bhavik more\\appdata\\local\\programs\\python\\python312\\lib\\site-packages (from requests->fsspec[http]>=2022.5.0->pytorch_lightning) (3.3.2)\n",
            "Requirement already satisfied: idna<4,>=2.5 in c:\\users\\bhavik more\\appdata\\local\\programs\\python\\python312\\lib\\site-packages (from requests->fsspec[http]>=2022.5.0->pytorch_lightning) (3.6)\n",
            "Requirement already satisfied: urllib3<3,>=1.21.1 in c:\\users\\bhavik more\\appdata\\local\\programs\\python\\python312\\lib\\site-packages (from requests->fsspec[http]>=2022.5.0->pytorch_lightning) (2.2.1)\n",
            "Requirement already satisfied: certifi>=2017.4.17 in c:\\users\\bhavik more\\appdata\\local\\programs\\python\\python312\\lib\\site-packages (from requests->fsspec[http]>=2022.5.0->pytorch_lightning) (2024.2.2)\n",
            "Requirement already satisfied: mpmath>=0.19 in c:\\users\\bhavik more\\appdata\\local\\programs\\python\\python312\\lib\\site-packages (from sympy->torch>=1.13.0->pytorch_lightning) (1.3.0)\n"
          ]
        }
      ]
    },
    {
      "cell_type": "code",
      "source": [
        "import os\n",
        "import torch\n",
        "from torch import nn\n",
        "import torch.nn.functional as F\n",
        "from torchvision import transforms, models\n",
        "from torch.utils.data import DataLoader, Dataset\n",
        "from PIL import Image\n",
        "import pytorch_lightning as pl\n",
        "from pytorch_lightning import Trainer\n",
        "from pytorch_lightning.loggers import WandbLogger\n",
        "from pytorch_lightning.callbacks import EarlyStopping\n"
      ],
      "metadata": {
        "id": "yTVDH3O4GSV6"
      },
      "execution_count": 2,
      "outputs": []
    },
    {
      "cell_type": "code",
      "source": [
        "class ImageDataset(Dataset):\n",
        "    def __init__(self, img_dir, transform=None):\n",
        "        self.img_dir = img_dir\n",
        "        self.transform = transform\n",
        "        self.class_names = os.listdir(img_dir)\n",
        "        self.img_paths = [os.path.join(img_dir, class_name, img) for class_name in self.class_names for img in os.listdir(os.path.join(img_dir, class_name))]\n",
        "\n",
        "    def __len__(self):\n",
        "        return len(self.img_paths)\n",
        "\n",
        "    def __getitem__(self, idx):\n",
        "        img_path = self.img_paths[idx]\n",
        "        img = Image.open(img_path).convert('RGB')\n",
        "        label = self.class_names.index(os.path.basename(os.path.dirname(img_path)))\n",
        "        if self.transform:\n",
        "            img = self.transform(img)\n",
        "        return img, label"
      ],
      "metadata": {
        "id": "_fhvPP1bGUjA"
      },
      "execution_count": 3,
      "outputs": []
    },
    {
      "cell_type": "code",
      "source": [
        "\n",
        "\n",
        "\n",
        "class ImageClassifier(pl.LightningModule):\n",
        "    def __init__(self, input_shape, num_classes, learning_rate=1e-3):\n",
        "        super().__init__()\n",
        "        self.save_hyperparameters()\n",
        "        self.model = models.resnet50(pretrained=True)\n",
        "        self.model.fc = nn.Linear(self.model.fc.in_features, num_classes)\n",
        "\n",
        "    def forward(self, x):\n",
        "        return self.model(x)\n",
        "\n",
        "    def training_step(self, batch, batch_idx):\n",
        "        x, y = batch\n",
        "        y_hat = self.model(x)\n",
        "        loss = F.cross_entropy(y_hat, y)\n",
        "        self.log('train_loss', loss)\n",
        "        return loss\n",
        "\n",
        "    def validation_step(self, batch, batch_idx):\n",
        "        x, y = batch\n",
        "        y_hat = self.model(x)\n",
        "        loss = F.cross_entropy(y_hat, y)\n",
        "        self.log('val_loss', loss)\n",
        "\n",
        "    def configure_optimizers(self):\n",
        "        optimizer = torch.optim.Adam(self.parameters(), lr=self.hparams.learning_rate)\n",
        "        return optimizer\n",
        "\n",
        "img_size = 224\n",
        "batch_size = 64\n",
        "learning_rate = 1e-3\n",
        "num_classes = 10\n",
        "input_shape = (3, img_size, img_size)\n",
        "\n",
        "transform = transforms.Compose([\n",
        "    transforms.Resize((img_size, img_size)),\n",
        "    transforms.ToTensor(),\n",
        "    transforms.Normalize(mean=[0.485, 0.456, 0.406], std=[0.229, 0.224, 0.225]),\n",
        "])\n",
        "\n",
        "train_dataset = ImageDataset('./nature_12K/inaturalist_12K/train', transform=transform)\n",
        "val_dataset = ImageDataset('./nature_12K/inaturalist_12K/val', transform=transform)\n",
        "\n",
        "train_loader = DataLoader(train_dataset, batch_size=batch_size, shuffle=True)\n",
        "val_loader = DataLoader(val_dataset, batch_size=batch_size)\n",
        "\n",
        "model = ImageClassifier(input_shape, num_classes, learning_rate)\n",
        "\n",
        "wandb_logger = WandbLogger(name=\"image_classifier\", project=\"cs6910assignment2\")\n",
        "early_stop_callback = EarlyStopping(monitor='val_loss', patience=3, verbose=False, mode='min')\n",
        "\n",
        "trainer = Trainer(max_epochs=10, accelerator='gpu', logger=wandb_logger, callbacks=[early_stop_callback])\n",
        "\n",
        "trainer.fit(model, train_loader, val_loader)\n"
      ],
      "metadata": {
        "colab": {
          "base_uri": "https://localhost:8080/",
          "height": 453
        },
        "id": "vBBtxpSaF-oR",
        "outputId": "05b0fc11-d790-492e-acfd-97352785d4ea"
      },
      "execution_count": 7,
      "outputs": [
        {
          "output_type": "stream",
          "name": "stderr",
          "text": [
            "GPU available: True (cuda), used: True\n",
            "TPU available: False, using: 0 TPU cores\n",
            "IPU available: False, using: 0 IPUs\n",
            "HPU available: False, using: 0 HPUs\n",
            "You are using a CUDA device ('NVIDIA GeForce RTX 3050 Laptop GPU') that has Tensor Cores. To properly utilize them, you should set `torch.set_float32_matmul_precision('medium' | 'high')` which will trade-off precision for performance. For more details, read https://pytorch.org/docs/stable/generated/torch.set_float32_matmul_precision.html#torch.set_float32_matmul_precision\n",
            "wandb: Currently logged in as: ch22m009. Use `wandb login --relogin` to force relogin\n"
          ]
        },
        {
          "output_type": "display_data",
          "data": {
            "text/plain": [
              "<IPython.core.display.HTML object>"
            ],
            "text/html": [
              "Tracking run with wandb version 0.16.6"
            ]
          },
          "metadata": {}
        },
        {
          "output_type": "display_data",
          "data": {
            "text/plain": [
              "<IPython.core.display.HTML object>"
            ],
            "text/html": [
              "Run data is saved locally in <code>.\\wandb\\run-20240411_223359-5i5l80xt</code>"
            ]
          },
          "metadata": {}
        },
        {
          "output_type": "display_data",
          "data": {
            "text/plain": [
              "<IPython.core.display.HTML object>"
            ],
            "text/html": [
              "Syncing run <strong><a href='https://wandb.ai/ch22m009/cs6910assignment2/runs/5i5l80xt' target=\"_blank\">image_classifier</a></strong> to <a href='https://wandb.ai/ch22m009/cs6910assignment2' target=\"_blank\">Weights & Biases</a> (<a href='https://wandb.me/run' target=\"_blank\">docs</a>)<br/>"
            ]
          },
          "metadata": {}
        },
        {
          "output_type": "display_data",
          "data": {
            "text/plain": [
              "<IPython.core.display.HTML object>"
            ],
            "text/html": [
              " View project at <a href='https://wandb.ai/ch22m009/cs6910assignment2' target=\"_blank\">https://wandb.ai/ch22m009/cs6910assignment2</a>"
            ]
          },
          "metadata": {}
        },
        {
          "output_type": "display_data",
          "data": {
            "text/plain": [
              "<IPython.core.display.HTML object>"
            ],
            "text/html": [
              " View run at <a href='https://wandb.ai/ch22m009/cs6910assignment2/runs/5i5l80xt' target=\"_blank\">https://wandb.ai/ch22m009/cs6910assignment2/runs/5i5l80xt</a>"
            ]
          },
          "metadata": {}
        },
        {
          "output_type": "stream",
          "name": "stderr",
          "text": [
            "LOCAL_RANK: 0 - CUDA_VISIBLE_DEVICES: [0]\n",
            "\n",
            "  | Name  | Type   | Params\n",
            "---------------------------------\n",
            "0 | model | ResNet | 23.5 M\n",
            "---------------------------------\n",
            "23.5 M    Trainable params\n",
            "0         Non-trainable params\n",
            "23.5 M    Total params\n",
            "94.114    Total estimated model params size (MB)\n"
          ]
        },
        {
          "output_type": "stream",
          "name": "stdout",
          "text": [
            "\rSanity Checking: |                                                                               | 0/? [00:00<?, ?it/s]"
          ]
        },
        {
          "output_type": "stream",
          "name": "stderr",
          "text": [
            "C:\\Users\\Bhavik More\\AppData\\Local\\Programs\\Python\\Python312\\Lib\\site-packages\\pytorch_lightning\\trainer\\connectors\\data_connector.py:441: The 'val_dataloader' does not have many workers which may be a bottleneck. Consider increasing the value of the `num_workers` argument` to `num_workers=15` in the `DataLoader` to improve performance.\n"
          ]
        },
        {
          "output_type": "stream",
          "name": "stdout",
          "text": []
        },
        {
          "output_type": "stream",
          "name": "stderr",
          "text": [
            "C:\\Users\\Bhavik More\\AppData\\Local\\Programs\\Python\\Python312\\Lib\\site-packages\\pytorch_lightning\\trainer\\connectors\\data_connector.py:441: The 'train_dataloader' does not have many workers which may be a bottleneck. Consider increasing the value of the `num_workers` argument` to `num_workers=15` in the `DataLoader` to improve performance.\n"
          ]
        },
        {
          "output_type": "stream",
          "name": "stdout",
          "text": [
            "Epoch 0:   4%|██▎                                                          | 6/157 [00:41<17:24,  0.14it/s, v_num=80xt]"
          ]
        },
        {
          "output_type": "stream",
          "name": "stderr",
          "text": [
            "C:\\Users\\Bhavik More\\AppData\\Local\\Programs\\Python\\Python312\\Lib\\site-packages\\pytorch_lightning\\trainer\\call.py:54: Detected KeyboardInterrupt, attempting graceful shutdown...\n"
          ]
        }
      ]
    },
    {
      "cell_type": "code",
      "source": [],
      "metadata": {
        "id": "-xjNVzqUG0w_"
      },
      "execution_count": null,
      "outputs": []
    }
  ]
}